{
 "cells": [
  {
   "cell_type": "code",
   "execution_count": null,
   "metadata": {
    "collapsed": false,
    "jupyter": {
     "outputs_hidden": false
    }
   },
   "outputs": [],
   "source": [
    "import matplotlib\n",
    "%matplotlib inline\n",
    "import matplotlib.pyplot as plt\n",
    "import math\n",
    "import numpy as np\n",
    "import tensorflow as tf\n",
    "import time\n",
    "# Main slim library\n",
    "slim = tf.contrib.slim\n",
    "%load_ext autoreload\n",
    "%autoreload 2"
   ]
  },
  {
   "cell_type": "code",
   "execution_count": null,
   "metadata": {},
   "outputs": [],
   "source": [
    "import sys\n",
    "sys.path.append('/home/marcotcr/slim/models/slim')\n",
    "sys.path.append('/home/marcotcr/phd/comparing_explanations/python')"
   ]
  },
  {
   "cell_type": "code",
   "execution_count": null,
   "metadata": {
    "collapsed": false,
    "jupyter": {
     "outputs_hidden": false
    }
   },
   "outputs": [],
   "source": [
    "from nets import inception\n",
    "from preprocessing import inception_preprocessing\n",
    "import anchor"
   ]
  },
  {
   "cell_type": "code",
   "execution_count": null,
   "metadata": {
    "collapsed": false,
    "jupyter": {
     "outputs_hidden": false
    }
   },
   "outputs": [],
   "source": [
    "gpu_options = tf.GPUOptions(per_process_gpu_memory_fraction=0.333)\n",
    "session = tf.Session(config=tf.ConfigProto(gpu_options=gpu_options))"
   ]
  },
  {
   "cell_type": "code",
   "execution_count": null,
   "metadata": {
    "collapsed": false,
    "jupyter": {
     "outputs_hidden": false
    }
   },
   "outputs": [],
   "source": [
    "image_size = inception.inception_v3.default_image_size\n",
    "def transform_img_fn(path_list):\n",
    "    out = []\n",
    "    for f in path_list:\n",
    "        image_raw = tf.image.decode_jpeg(open(f).read(), channels=3)\n",
    "        image = inception_preprocessing.preprocess_image(image_raw, image_size, image_size, is_training=False)\n",
    "        out.append(image)\n",
    "    return session.run([out])[0]"
   ]
  },
  {
   "cell_type": "code",
   "execution_count": null,
   "metadata": {
    "collapsed": false,
    "jupyter": {
     "outputs_hidden": false
    }
   },
   "outputs": [],
   "source": [
    "from datasets import imagenet\n",
    "names = imagenet.create_readable_names_for_imagenet_labels()\n"
   ]
  },
  {
   "cell_type": "code",
   "execution_count": null,
   "metadata": {
    "collapsed": false,
    "jupyter": {
     "outputs_hidden": false
    }
   },
   "outputs": [],
   "source": [
    "# image = tf.image.decode_jpeg(open('maxresdefault.jpg').read(), channels=3)\n",
    "# processed_image = inception_preprocessing.preprocess_image(image, image_size, image_size, is_training=False)\n",
    "# processed_images  = tf.expand_dims(processed_image, 0)\n"
   ]
  },
  {
   "cell_type": "code",
   "execution_count": null,
   "metadata": {
    "collapsed": false,
    "jupyter": {
     "outputs_hidden": false
    }
   },
   "outputs": [],
   "source": [
    "processed_images = tf.placeholder(tf.float32, shape=(None, 299, 299, 3))"
   ]
  },
  {
   "cell_type": "code",
   "execution_count": null,
   "metadata": {
    "collapsed": false,
    "jupyter": {
     "outputs_hidden": false
    }
   },
   "outputs": [],
   "source": [
    "import os\n",
    "with slim.arg_scope(inception.inception_v3_arg_scope()):\n",
    "    logits, _ = inception.inception_v3(processed_images, num_classes=1001, is_training=False)\n",
    "probabilities = tf.nn.softmax(logits)\n",
    "\n",
    "checkpoints_dir = '/home/marcotcr/phd/comparing_explanations/notebooks/inception_tf'\n",
    "init_fn = slim.assign_from_checkpoint_fn(\n",
    "    os.path.join(checkpoints_dir, 'inception_v3.ckpt'),\n",
    "    slim.get_model_variables('InceptionV3'))\n",
    "init_fn(session)\n"
   ]
  },
  {
   "cell_type": "code",
   "execution_count": null,
   "metadata": {
    "collapsed": false,
    "jupyter": {
     "outputs_hidden": false
    }
   },
   "outputs": [],
   "source": [
    "def predict_fn(images):\n",
    "    return session.run(probabilities, feed_dict={processed_images: images})"
   ]
  },
  {
   "cell_type": "code",
   "execution_count": null,
   "metadata": {
    "tags": []
   },
   "outputs": [],
   "source": [
    "# def predict_fn(images):\n",
    "#     with slim.arg_scope(inception.inception_v3_arg_scope()):\n",
    "#         logits, _ = inception.inception_v3(images, num_classes=1001, is_training=False, reuse=True)\n",
    "#     probabilities = tf.nn.softmax(logits)\n",
    "#     return session.run([probabilities])[0]"
   ]
  },
  {
   "cell_type": "code",
   "execution_count": null,
   "metadata": {
    "collapsed": false,
    "jupyter": {
     "outputs_hidden": false
    }
   },
   "outputs": [],
   "source": [
    "import copy\n",
    "from skimage.segmentation import quickshift, mark_boundaries, slic, felzenszwalb\n",
    "def ShowImageNoAxis(image, boundaries=None, save=None):\n",
    "    fig = plt.figure()\n",
    "    ax = plt.Axes(fig, [0., 0., 1., 1.])\n",
    "    ax.set_axis_off()\n",
    "    fig.add_axes(ax)\n",
    "    if boundaries is not None:\n",
    "        ax.imshow(mark_boundaries(image / 2 + 0.5, boundaries))\n",
    "    else:\n",
    "        ax.imshow(image / 2 + .5)\n",
    "    if save is not None:\n",
    "        plt.savefig(save)\n",
    "    plt.show()\n",
    "\n",
    "def show_exp(segments, exp, image, explainer):\n",
    "    mask = np.ones(segments.shape).astype(bool)\n",
    "    temp = copy.deepcopy(image)\n",
    "    temp_img = copy.deepcopy(temp)\n",
    "#     temp.img = temp.fudged_image.copy()\n",
    "    temp[:] = 0\n",
    "    # for x in exp_greedy[:3]:\n",
    "    #     x = (x, x)\n",
    "    for x in exp:\n",
    "        temp[segments == x[0]] = temp_img[segments==x[0]]\n",
    "    # temp.img[mask] = np.random.random(mask.nonzero()[0].shape[0] * 3).reshape(mask.nonzero()[0].shape[0], 3)\n",
    "    print 'Anchor for prediction ', names[predict_fn(np.expand_dims(image, 0))[0].argmax()], 'confidence', exp[-1][2]\n",
    "    ShowImageNoAxis(temp)\n",
    "    print 'Counter Examples:'\n",
    "    for e in exp[-1][3]:\n",
    "        data = e[:-1]\n",
    "        temp = explainer.dummys[e[-1]].copy()\n",
    "        for x in data.nonzero()[0]:\n",
    "            temp[segments == x] = image[segments == x]\n",
    "        ShowImageNoAxis(temp)\n",
    "        print 'Prediction = ', names[predict_fn(np.expand_dims(temp, 0))[0].argmax()]\n",
    "\n",
    "def show_fudged_exp(segments, exp, image):\n",
    "    fudged_image = image.copy()\n",
    "    for x in np.unique(segments):\n",
    "        fudged_image[segments == x] = (np.mean(image[segments == x][:, 0]),\n",
    "                                       np.mean(image[segments == x][:, 1]),\n",
    "                                       np.mean(image[segments == x][:, 2]))\n",
    "    mask = np.ones(segments.shape).astype(bool)\n",
    "    temp = copy.deepcopy(image)\n",
    "    temp_img = copy.deepcopy(temp)\n",
    "#     temp.img = temp.fudged_image.copy()\n",
    "    temp[:] = 0\n",
    "    # for x in exp_greedy[:3]:\n",
    "    #     x = (x, x)\n",
    "    for x in exp:\n",
    "        temp[segments == x[0]] = temp_img[segments==x[0]]\n",
    "    # temp.img[mask] = np.random.random(mask.nonzero()[0].shape[0] * 3).reshape(mask.nonzero()[0].shape[0], 3)\n",
    "    print 'Anchor for prediction ', names[predict_fn(np.expand_dims(image, 0))[0].argmax()], 'confidence', exp[-1][2]\n",
    "    ShowImageNoAxis(temp)\n",
    "    print 'Counter Examples:'\n",
    "    for e in exp[-1][3]:\n",
    "        data = e\n",
    "        temp = fudged_image.copy()\n",
    "        for x in data.nonzero()[0]:\n",
    "            temp[segments == x] = image[segments == x]\n",
    "        ShowImageNoAxis(temp)\n",
    "        print 'Prediction = ', names[predict_fn(np.expand_dims(temp, 0))[0].argmax()]"
   ]
  },
  {
   "cell_type": "code",
   "execution_count": null,
   "metadata": {},
   "outputs": [],
   "source": [
    "import skimage.io\n",
    "import skimage.transform\n",
    "def transform_img_fast(path):\n",
    "    img = skimage.io.imread(path)\n",
    "    if len(img.shape) != 3:\n",
    "        img = skimage.color.gray2rgb(img)\n",
    "    short_egde = min(img.shape[:2])\n",
    "    yy = int((img.shape[0] - short_egde) / 2)\n",
    "    xx = int((img.shape[1] - short_egde) / 2)\n",
    "    crop_img = img[yy: yy + short_egde, xx: xx + short_egde]\n",
    "    return (skimage.transform.resize(crop_img, (299, 299)) - 0.5) * 2\n",
    "def transform_img_fn_fast(paths):\n",
    "    out = []\n",
    "    for i, path in enumerate(paths):\n",
    "        if i % 100 == 0:\n",
    "            print i\n",
    "        out.append(transform_img_fast(path))\n",
    "    return np.array(out)\n",
    "#     return np.array([transform_img_fast(path) for path in paths])"
   ]
  },
  {
   "cell_type": "code",
   "execution_count": null,
   "metadata": {
    "collapsed": false,
    "jupyter": {
     "outputs_hidden": false
    }
   },
   "outputs": [],
   "source": [
    "a = time.time()\n",
    "images = transform_img_fn(['zebra.jpg', 'zebra.jpg'])\n",
    "print time.time() - a\n"
   ]
  },
  {
   "cell_type": "code",
   "execution_count": null,
   "metadata": {},
   "outputs": [],
   "source": [
    "img = images[-1]"
   ]
  },
  {
   "cell_type": "code",
   "execution_count": null,
   "metadata": {
    "collapsed": false,
    "jupyter": {
     "outputs_hidden": false
    }
   },
   "outputs": [],
   "source": [
    "np.array(images).shape"
   ]
  },
  {
   "cell_type": "code",
   "execution_count": null,
   "metadata": {
    "collapsed": false,
    "jupyter": {
     "outputs_hidden": false
    }
   },
   "outputs": [],
   "source": [
    "a = time.time()\n",
    "probs = predict_fn(np.array(images))\n",
    "print time.time() -a "
   ]
  },
  {
   "cell_type": "code",
   "execution_count": null,
   "metadata": {
    "collapsed": false,
    "jupyter": {
     "outputs_hidden": false
    }
   },
   "outputs": [],
   "source": [
    "probs"
   ]
  },
  {
   "cell_type": "code",
   "execution_count": null,
   "metadata": {
    "collapsed": false,
    "jupyter": {
     "outputs_hidden": false
    }
   },
   "outputs": [],
   "source": [
    "probs.shape"
   ]
  },
  {
   "cell_type": "code",
   "execution_count": null,
   "metadata": {
    "collapsed": false,
    "jupyter": {
     "outputs_hidden": false
    }
   },
   "outputs": [],
   "source": [
    "i = 1\n",
    "ShowImageNoAxis(images[i])\n",
    "names[np.argmax(probs[i])]"
   ]
  },
  {
   "cell_type": "code",
   "execution_count": null,
   "metadata": {
    "collapsed": false,
    "jupyter": {
     "outputs_hidden": false
    }
   },
   "outputs": [],
   "source": [
    "image = images[0]"
   ]
  },
  {
   "cell_type": "code",
   "execution_count": null,
   "metadata": {
    "collapsed": false,
    "jupyter": {
     "outputs_hidden": false
    }
   },
   "outputs": [],
   "source": [
    "3"
   ]
  },
  {
   "cell_type": "code",
   "execution_count": null,
   "metadata": {
    "collapsed": false,
    "jupyter": {
     "outputs_hidden": false
    }
   },
   "outputs": [],
   "source": [
    "explainer = anchor.AnchorImage([], '/Users/marcotcr/phd/datasets/imagenet/full',\n",
    "                               transform_img_fn=transform_img_fn_fast, n=5000)"
   ]
  },
  {
   "cell_type": "code",
   "execution_count": null,
   "metadata": {
    "collapsed": false,
    "jupyter": {
     "outputs_hidden": false
    }
   },
   "outputs": [],
   "source": [
    "# explainer2 = anchor.AnchorImage([])\n"
   ]
  },
  {
   "cell_type": "code",
   "execution_count": null,
   "metadata": {
    "collapsed": false,
    "jupyter": {
     "outputs_hidden": false
    }
   },
   "outputs": [],
   "source": [
    "# image = transform_img_fast('/home/marcotcr/phd/datasets/visualqa/val2014/COCO_val2014_000000045626.jpg')\n",
    "image = transform_img_fast('nick.jpg')\n",
    "ShowImageNoAxis(image)"
   ]
  },
  {
   "cell_type": "code",
   "execution_count": null,
   "metadata": {
    "collapsed": false,
    "jupyter": {
     "outputs_hidden": false
    }
   },
   "outputs": [],
   "source": [
    "z = predict_fn([image])\n",
    "print names[z.argmax()], z.max()"
   ]
  },
  {
   "cell_type": "code",
   "execution_count": null,
   "metadata": {
    "collapsed": false,
    "jupyter": {
     "outputs_hidden": false
    }
   },
   "outputs": [],
   "source": [
    "from skimage.segmentation import quickshift\n",
    "segments = quickshift(image, kernel_size=4, max_dist=200, ratio=0.2)\n",
    "exp = {}\n",
    "# exp['feature'] =  [1, 2, 7, 8, 9, 11, 16, 17, 24, 25, 28, 29, 30, 34, 36, 39, 40, 52]\n",
    "exp['feature'] = [1, 2, 7, 8, 9, 11, 17, 25, 29, 30, 34, 36, 40, 52]\n",
    "temp = np.ones(image.shape)\n",
    "mask = np.zeros(segments.shape).astype(bool)\n",
    "for f in exp['feature']:\n",
    "    mask[segments == f] = 1\n",
    "temp[mask] = image[mask].copy()\n",
    "ShowImageNoAxis(temp, mask, '/tmp/nickz.png')"
   ]
  },
  {
   "cell_type": "code",
   "execution_count": null,
   "metadata": {
    "collapsed": false,
    "jupyter": {
     "outputs_hidden": false
    }
   },
   "outputs": [],
   "source": [
    "N = 5\n",
    "chosen = np.random.choice(len(explainer.dummys), N)\n",
    "imgs = []\n",
    "masks = []\n",
    "for c in chosen:\n",
    "    temp = copy.deepcopy(explainer.dummys[c])\n",
    "    mask = np.zeros(segments.shape).astype(bool)\n",
    "    for f in exp['feature']:\n",
    "        mask[segments == f] = 1\n",
    "    temp[mask] = image[mask].copy()\n",
    "    imgs.append(temp)\n",
    "    masks.append(mask)\n",
    "preds = predict_fn(imgs)\n",
    "for i, p in zip(imgs, preds):\n",
    "    if p.max() < 0.9:\n",
    "        continue\n",
    "    ShowImageNoAxis(i, mask, '/tmp/nickz.png')\n",
    "    print names[p.argmax()], p.max()\n"
   ]
  },
  {
   "cell_type": "code",
   "execution_count": null,
   "metadata": {},
   "outputs": [],
   "source": [
    "(1, 2, 7, 8, 9, 11, 16, 17, 24, 25, 28, 29, 30, 34, 36, 39, 40, 52) mean = 0.97 lb = 0.92 ub = 0.99 coverage: 0.00"
   ]
  },
  {
   "cell_type": "code",
   "execution_count": null,
   "metadata": {},
   "outputs": [],
   "source": [
    "# (1, 2, 7, 8, 9, 11, 17, 25, 29, 30, 34, 36, 40, 52) mean 0.95\n",
    "# (1, 2, 7, 8, 9, 11, 16, 17, 25, 29, 30, 34, 36, 40, 52) mean = 0.90 lb = 0.87 ub = 0.93 coverage: 0.00\n",
    "# (1, 2, 7, 8, 9, 11, 16, 17, 24, 25, 29, 30, 34, 36, 40, 52) mean = 0.94 lb = 0.90 ub = 0.97 coverage: 0.00\n",
    "# (1, 2, 7, 8, 9, 11, 16, 17, 24, 25, 28, 29, 30, 34, 36, 39, 40, 52) mean = 0.97 lb = 0.92 ub = 0.99 coverage: 0.00\n"
   ]
  },
  {
   "cell_type": "code",
   "execution_count": null,
   "metadata": {
    "collapsed": false,
    "jupyter": {
     "outputs_hidden": false
    }
   },
   "outputs": [],
   "source": [
    "segments, exp = explainer.explain_hoeffding(image, predict_fn, threshold=0.95, batch_size=10,\n",
    "                                            tau=0.20, verbose=True, min_shared_samples=200, beam_size=1)\n",
    "# segments_f, exp_f = explainer2.explain_hoeffding(image, predict_fn, threshold=0.95, batch_size=20,\n",
    "#                                             tau=0.1, verbose=True, min_shared_samples=100, new=True)"
   ]
  },
  {
   "cell_type": "code",
   "execution_count": null,
   "metadata": {
    "collapsed": false,
    "jupyter": {
     "outputs_hidden": false
    }
   },
   "outputs": [],
   "source": [
    "exp"
   ]
  },
  {
   "cell_type": "code",
   "execution_count": null,
   "metadata": {},
   "outputs": [],
   "source": [
    "image2 = transform_img_fn(['zebra.jpg'])[0]\n",
    "segments2, exp2 = explainer.explain_hoeffding(image2, predict_fn, threshold=0.95, batch_size=10,\n",
    "                                            tau=0.15, verbose=False, min_shared_samples=200, beam_size=1)"
   ]
  },
  {
   "cell_type": "code",
   "execution_count": null,
   "metadata": {},
   "outputs": [],
   "source": [
    "def random_examples_from_exp(segments, exp, image, explainer, n=5):\n",
    "    n_features = len(np.unique(segments))\n",
    "    data = np.random.choice(\n",
    "        [0, 1], n * n_features, p=[.8, .2]).reshape(\n",
    "        (n, n_features))\n",
    "    present = np.array([x[0] for x in exp])\n",
    "    data[:, present] = 1\n",
    "    chosen = np.random.choice(range(len(explainer.dummys)), data.shape[0],\n",
    "                              replace=True)\n",
    "    imgs = []\n",
    "    for d, r in zip(data, chosen):\n",
    "        temp = copy.deepcopy(image)\n",
    "        zeros = np.where(d == 0)[0]\n",
    "        mask = np.zeros(segments.shape).astype(bool)\n",
    "        for z in zeros:\n",
    "            mask[segments == z] = True\n",
    "        chosen = np.random\n",
    "        temp[mask] = explainer.dummys[r][mask]\n",
    "        imgs.append(temp)\n",
    "    preds = predict_fn(np.array(imgs))\n",
    "    preds_max = np.argmax(preds, axis=1)\n",
    "    preds_val = np.max(preds, axis=1)\n",
    "    for img, pred, val in zip(imgs, preds_max, preds_val):\n",
    "        ShowImageNoAxis(img)\n",
    "        print names[pred], val"
   ]
  },
  {
   "cell_type": "code",
   "execution_count": null,
   "metadata": {
    "collapsed": false,
    "jupyter": {
     "outputs_hidden": false
    }
   },
   "outputs": [],
   "source": [
    "# show_fudged_exp(segments_f, exp_f, image)\n",
    "show_exp(segments, exp, image, explainer)"
   ]
  },
  {
   "cell_type": "code",
   "execution_count": null,
   "metadata": {
    "collapsed": false,
    "jupyter": {
     "outputs_hidden": false
    }
   },
   "outputs": [],
   "source": [
    "izz = random_examples_from_exp(segments, exp, image, explainer, n=10)"
   ]
  },
  {
   "cell_type": "code",
   "execution_count": null,
   "metadata": {
    "collapsed": false,
    "jupyter": {
     "outputs_hidden": false
    }
   },
   "outputs": [],
   "source": [
    "ShowImageNoAxis(image)"
   ]
  },
  {
   "cell_type": "code",
   "execution_count": null,
   "metadata": {
    "collapsed": false,
    "jupyter": {
     "outputs_hidden": false
    }
   },
   "outputs": [],
   "source": [
    "a = time.time()\n",
    "samples = fn([], 20)\n",
    "print time.time() - a"
   ]
  },
  {
   "cell_type": "code",
   "execution_count": null,
   "metadata": {},
   "outputs": [],
   "source": [
    "explainer."
   ]
  },
  {
   "cell_type": "code",
   "execution_count": null,
   "metadata": {
    "collapsed": false,
    "jupyter": {
     "outputs_hidden": false
    }
   },
   "outputs": [],
   "source": [
    "6.05 / len(ret)"
   ]
  },
  {
   "cell_type": "code",
   "execution_count": null,
   "metadata": {
    "collapsed": false,
    "jupyter": {
     "outputs_hidden": false
    }
   },
   "outputs": [],
   "source": [
    "[names[i] for i in probs.argmax(axis=1)]"
   ]
  },
  {
   "cell_type": "code",
   "execution_count": null,
   "metadata": {
    "collapsed": false,
    "jupyter": {
     "outputs_hidden": false
    }
   },
   "outputs": [],
   "source": [
    "# import time\n",
    "# image = tf.image.decode_jpeg(open('maxresdefault.jpg').read(), channels=3)\n",
    "# processed_image = inception_preprocessing.preprocess_image(image, image_size, image_size, is_training=False)\n",
    "# processed_images  = tf.expand_dims(processed_image, 0)\n",
    "# images\n",
    "a = time.time()\n",
    "with slim.arg_scope(inception.inception_v3_arg_scope()):\n",
    "    logits, _ = inception.inception_v3(processed_images, num_classes=1001, is_training=False, reuse=True)\n",
    "probabilities = tf.nn.softmax(logits)\n",
    "np_image, probabilities = session.run([image, probabilities])\n",
    "probabilities = probabilities[0, 0:]\n",
    "print time.time() - a"
   ]
  },
  {
   "cell_type": "code",
   "execution_count": null,
   "metadata": {
    "collapsed": false,
    "jupyter": {
     "outputs_hidden": false
    }
   },
   "outputs": [],
   "source": [
    "# images = processed_images.eval()\n",
    "# images = np.vstack((images, images, images, images, images, images, images, images, images, images, images, images, images, images, images, images, images, images, images, images, images, images, images, images, images, images))\n",
    "a = time.time()\n",
    "with slim.arg_scope(inception.inception_v3_arg_scope()):\n",
    "    logits, _ = inception.inception_v3(images[:20], num_classes=1001, is_training=False, reuse=True)\n",
    "probabilities = tf.nn.softmax(logits)\n",
    "np_image, probabilities = session.run([image, probabilities])\n",
    "# probabilities = probabilities[0, 0:]\n",
    "print time.time() - a"
   ]
  },
  {
   "cell_type": "code",
   "execution_count": null,
   "metadata": {
    "collapsed": false,
    "jupyter": {
     "outputs_hidden": false
    }
   },
   "outputs": [],
   "source": [
    "6.36 / 20."
   ]
  },
  {
   "cell_type": "code",
   "execution_count": null,
   "metadata": {
    "collapsed": false,
    "jupyter": {
     "outputs_hidden": false
    }
   },
   "outputs": [],
   "source": [
    "from skimage.segmentation import quickshift, mark_boundaries, slic, felzenszwalb\n",
    "segments = quickshift(image, kernel_size=5, max_dist=200, ratio=0.5)\n",
    "fig = plt.figure()\n",
    "ax = plt.Axes(fig, [0., 0., 1., 1.])\n",
    "ax.set_axis_off()\n",
    "fig.add_axes(ax)\n",
    "ax.imshow(mark_boundaries(image / 2. + .5,segments))\n",
    "plt.show()"
   ]
  },
  {
   "cell_type": "code",
   "execution_count": null,
   "metadata": {
    "collapsed": false,
    "jupyter": {
     "outputs_hidden": false
    }
   },
   "outputs": [],
   "source": [
    "np.unique(segments).shape"
   ]
  },
  {
   "cell_type": "code",
   "execution_count": null,
   "metadata": {
    "collapsed": false,
    "jupyter": {
     "outputs_hidden": false
    }
   },
   "outputs": [],
   "source": [
    "plt.imshow(images[0] / 2. + 0.5)"
   ]
  },
  {
   "cell_type": "code",
   "execution_count": null,
   "metadata": {
    "collapsed": false,
    "jupyter": {
     "outputs_hidden": false
    }
   },
   "outputs": [],
   "source": [
    "[names[np.argmax(i)] for i in probabilities]"
   ]
  },
  {
   "cell_type": "code",
   "execution_count": null,
   "metadata": {
    "collapsed": false,
    "jupyter": {
     "outputs_hidden": false
    }
   },
   "outputs": [],
   "source": [
    "import os\n",
    "checkpoints_dir = '/home/marcotcr/phd/comparing_explanations/notebooks/inception_tf'\n",
    "init_fn = slim.assign_from_checkpoint_fn(\n",
    "        os.path.join(checkpoints_dir, 'inception_v3.ckpt'),\n",
    "        slim.get_model_variables('InceptionV3'))\n",
    "init_fn(session)\n"
   ]
  },
  {
   "cell_type": "code",
   "execution_count": null,
   "metadata": {
    "collapsed": false,
    "jupyter": {
     "outputs_hidden": false
    }
   },
   "outputs": [],
   "source": [
    "names[probabilities.argmax()]"
   ]
  },
  {
   "cell_type": "code",
   "execution_count": null,
   "metadata": {
    "collapsed": false,
    "jupyter": {
     "outputs_hidden": false
    }
   },
   "outputs": [],
   "source": [
    "probabilities"
   ]
  },
  {
   "cell_type": "code",
   "execution_count": null,
   "metadata": {
    "collapsed": false,
    "jupyter": {
     "outputs_hidden": false
    }
   },
   "outputs": [],
   "source": [
    "logits, _ = inception.inception_v3(processed_images, num_classes=1001, is_training=False)\n",
    "probabilities = tf.nn.softmax(logits)"
   ]
  },
  {
   "cell_type": "code",
   "execution_count": null,
   "metadata": {
    "collapsed": false,
    "jupyter": {
     "outputs_hidden": false
    }
   },
   "outputs": [],
   "source": [
    "images[0]"
   ]
  },
  {
   "cell_type": "code",
   "execution_count": null,
   "metadata": {
    "collapsed": false,
    "jupyter": {
     "outputs_hidden": false
    }
   },
   "outputs": [],
   "source": [
    "plt.imshow(image.eval().astype(np.uint8))"
   ]
  },
  {
   "cell_type": "code",
   "execution_count": null,
   "metadata": {
    "collapsed": false,
    "jupyter": {
     "outputs_hidden": false
    }
   },
   "outputs": [],
   "source": [
    "processed_image.eval()"
   ]
  },
  {
   "cell_type": "code",
   "execution_count": null,
   "metadata": {
    "collapsed": false,
    "jupyter": {
     "outputs_hidden": false
    }
   },
   "outputs": [],
   "source": [
    "plt.imshow(processed_image.eval())"
   ]
  },
  {
   "cell_type": "code",
   "execution_count": null,
   "metadata": {
    "collapsed": false,
    "jupyter": {
     "outputs_hidden": false
    }
   },
   "outputs": [],
   "source": [
    "plt.imshow(image)"
   ]
  },
  {
   "cell_type": "code",
   "execution_count": null,
   "metadata": {
    "collapsed": false,
    "jupyter": {
     "outputs_hidden": false
    }
   },
   "outputs": [],
   "source": [
    "image.eval().shape"
   ]
  },
  {
   "cell_type": "code",
   "execution_count": null,
   "metadata": {},
   "outputs": [],
   "source": [
    "model_dir = 'inception'"
   ]
  },
  {
   "cell_type": "code",
   "execution_count": null,
   "metadata": {
    "collapsed": false,
    "jupyter": {
     "outputs_hidden": false
    }
   },
   "outputs": [],
   "source": [
    "image = os.path.join(model_dir, 'cropped_panda.jpg')"
   ]
  },
  {
   "cell_type": "code",
   "execution_count": null,
   "metadata": {},
   "outputs": [],
   "source": [
    "image = 'doglion.jpg'\n",
    "image_data = tf.gfile.FastGFile(image, 'rb').read()\n"
   ]
  },
  {
   "cell_type": "code",
   "execution_count": null,
   "metadata": {
    "collapsed": false,
    "jupyter": {
     "outputs_hidden": false
    }
   },
   "outputs": [],
   "source": [
    "a = tf.cast(image_data, tf.float32)"
   ]
  },
  {
   "cell_type": "code",
   "execution_count": null,
   "metadata": {
    "collapsed": false,
    "jupyter": {
     "outputs_hidden": false
    }
   },
   "outputs": [],
   "source": [
    "sess = tf.Session()"
   ]
  },
  {
   "cell_type": "code",
   "execution_count": null,
   "metadata": {
    "collapsed": false,
    "jupyter": {
     "outputs_hidden": false
    }
   },
   "outputs": [],
   "source": [
    "sess.run(a)"
   ]
  },
  {
   "cell_type": "code",
   "execution_count": null,
   "metadata": {
    "collapsed": false,
    "jupyter": {
     "outputs_hidden": false
    }
   },
   "outputs": [],
   "source": [
    "image_data"
   ]
  }
 ],
 "metadata": {
  "kernelspec": {
   "display_name": "anchor38",
   "language": "python",
   "name": "anchor38"
  },
  "language_info": {
   "codemirror_mode": {
    "name": "ipython",
    "version": 3
   },
   "file_extension": ".py",
   "mimetype": "text/x-python",
   "name": "python",
   "nbconvert_exporter": "python",
   "pygments_lexer": "ipython3",
   "version": "3.8.9"
  }
 },
 "nbformat": 4,
 "nbformat_minor": 4
}
